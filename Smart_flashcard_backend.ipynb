{
 "cells": [
  {
   "cell_type": "code",
   "execution_count": 4,
   "id": "92c85b35-fb3d-49e4-9331-c81309656a68",
   "metadata": {},
   "outputs": [
    {
     "name": "stdout",
     "output_type": "stream",
     "text": [
      "Requirement already satisfied: flask in c:\\users\\ayush\\anaconda3\\lib\\site-packages (2.2.5)\n",
      "Requirement already satisfied: Werkzeug>=2.2.2 in c:\\users\\ayush\\anaconda3\\lib\\site-packages (from flask) (2.2.3)\n",
      "Requirement already satisfied: Jinja2>=3.0 in c:\\users\\ayush\\anaconda3\\lib\\site-packages (from flask) (3.1.3)\n",
      "Requirement already satisfied: itsdangerous>=2.0 in c:\\users\\ayush\\anaconda3\\lib\\site-packages (from flask) (2.0.1)\n",
      "Requirement already satisfied: click>=8.0 in c:\\users\\ayush\\anaconda3\\lib\\site-packages (from flask) (8.1.7)\n",
      "Requirement already satisfied: colorama in c:\\users\\ayush\\anaconda3\\lib\\site-packages (from click>=8.0->flask) (0.4.6)\n",
      "Requirement already satisfied: MarkupSafe>=2.0 in c:\\users\\ayush\\anaconda3\\lib\\site-packages (from Jinja2>=3.0->flask) (2.1.3)\n"
     ]
    }
   ],
   "source": [
    "!pip install flask"
   ]
  },
  {
   "cell_type": "code",
   "execution_count": 5,
   "id": "1163b7e8-1d66-42db-bec2-c709d280f626",
   "metadata": {},
   "outputs": [],
   "source": [
    "def classify_subject(text):\n",
    "    keywords = {\n",
    "        \"Physics\": [\"force\", \"acceleration\", \"newton\", \"velocity\", \"gravity\", \"mass\"],\n",
    "        \"Biology\": [\"photosynthesis\", \"cell\", \"organism\", \"dna\", \"enzyme\", \"plant\"],\n",
    "        \"Chemistry\": [\"atom\", \"molecule\", \"reaction\", \"acid\", \"base\", \"compound\"],\n",
    "        \"Math\": [\"algebra\", \"equation\", \"geometry\", \"calculus\", \"derivative\", \"matrix\"],\n",
    "        \"History\": [\"war\", \"revolution\", \"empire\", \"king\", \"dynasty\", \"ancient\"],\n",
    "    }\n",
    "\n",
    "    text = text.lower()\n",
    "    for subject, words in keywords.items():\n",
    "        for word in words:\n",
    "            if word in text:\n",
    "                return subject\n",
    "    return \"General\"\n"
   ]
  },
  {
   "cell_type": "code",
   "execution_count": 6,
   "id": "d0835a41-f549-42f7-a750-3bb9c32fed17",
   "metadata": {},
   "outputs": [],
   "source": [
    "import sqlite3\n",
    "\n",
    "def init_db():\n",
    "    conn = sqlite3.connect(\"flashcards.db\")\n",
    "    c = conn.cursor()\n",
    "    c.execute('''CREATE TABLE IF NOT EXISTS flashcards (\n",
    "                    id INTEGER PRIMARY KEY AUTOINCREMENT,\n",
    "                    student_id TEXT,\n",
    "                    question TEXT,\n",
    "                    answer TEXT,\n",
    "                    subject TEXT\n",
    "                )''')\n",
    "    conn.commit()\n",
    "    conn.close()\n",
    "\n",
    "def add_flashcard(student_id, question, answer, subject):\n",
    "    conn = sqlite3.connect(\"flashcards.db\")\n",
    "    c = conn.cursor()\n",
    "    c.execute(\"INSERT INTO flashcards (student_id, question, answer, subject) VALUES (?, ?, ?, ?)\",\n",
    "              (student_id, question, answer, subject))\n",
    "    conn.commit()\n",
    "    conn.close()\n",
    "\n",
    "def get_flashcards(student_id, limit):\n",
    "    conn = sqlite3.connect(\"flashcards.db\")\n",
    "    c = conn.cursor()\n",
    "    c.execute(\"SELECT question, answer, subject FROM flashcards WHERE student_id=?\", (student_id,))\n",
    "    rows = c.fetchall()\n",
    "    conn.close()\n",
    "\n",
    "    from random import shuffle\n",
    "    shuffle(rows)\n",
    "\n",
    "    seen_subjects = set()\n",
    "    results = []\n",
    "    for row in rows:\n",
    "        if row[2] not in seen_subjects:\n",
    "            results.append({\n",
    "                \"question\": row[0],\n",
    "                \"answer\": row[1],\n",
    "                \"subject\": row[2]\n",
    "            })\n",
    "            seen_subjects.add(row[2])\n",
    "        if len(results) >= limit:\n",
    "            break\n",
    "    return results\n"
   ]
  },
  {
   "cell_type": "code",
   "execution_count": 7,
   "id": "02d4a58d-4ad5-4371-b800-7fb804dc1c21",
   "metadata": {},
   "outputs": [
    {
     "name": "stdout",
     "output_type": "stream",
     "text": [
      " * Serving Flask app '__main__'\n",
      " * Debug mode: off\n"
     ]
    },
    {
     "name": "stderr",
     "output_type": "stream",
     "text": [
      "WARNING: This is a development server. Do not use it in a production deployment. Use a production WSGI server instead.\n",
      " * Running on http://127.0.0.1:5000\n",
      "Press CTRL+C to quit\n"
     ]
    }
   ],
   "source": [
    "from flask import Flask, request, jsonify\n",
    "import threading\n",
    "\n",
    "app = Flask(__name__)\n",
    "init_db()\n",
    "\n",
    "@app.route(\"/flashcard\", methods=[\"POST\"])\n",
    "def add_card():\n",
    "    data = request.get_json()\n",
    "    student_id = data.get(\"student_id\")\n",
    "    question = data.get(\"question\")\n",
    "    answer = data.get(\"answer\")\n",
    "    \n",
    "    subject = classify_subject(question)\n",
    "    add_flashcard(student_id, question, answer, subject)\n",
    "\n",
    "    return jsonify({\"message\": \"Flashcard added successfully\", \"subject\": subject})\n",
    "\n",
    "@app.route(\"/get-subject\", methods=[\"GET\"])\n",
    "def get_cards():\n",
    "    student_id = request.args.get(\"student_id\")\n",
    "    limit = int(request.args.get(\"limit\", 5))\n",
    "    cards = get_flashcards(student_id, limit)\n",
    "    return jsonify(cards)\n",
    "\n",
    "def run_app():\n",
    "    app.run(port=5000)\n",
    "\n",
    "# Start Flask in a background thread\n",
    "flask_thread = threading.Thread(target=run_app)\n",
    "flask_thread.daemon = True\n",
    "flask_thread.start()\n"
   ]
  },
  {
   "cell_type": "code",
   "execution_count": 8,
   "id": "684a25c8-5d43-4816-89e4-81142c268bd7",
   "metadata": {},
   "outputs": [
    {
     "name": "stderr",
     "output_type": "stream",
     "text": [
      "127.0.0.1 - - [18/May/2025 15:23:25] \"POST /flashcard HTTP/1.1\" 200 -\n",
      "127.0.0.1 - - [18/May/2025 15:23:25] \"POST /flashcard HTTP/1.1\" 200 -\n",
      "127.0.0.1 - - [18/May/2025 15:23:25] \"POST /flashcard HTTP/1.1\" 200 -\n",
      "127.0.0.1 - - [18/May/2025 15:23:25] \"POST /flashcard HTTP/1.1\" 200 -\n",
      "127.0.0.1 - - [18/May/2025 15:23:25] \"POST /flashcard HTTP/1.1\" 200 -\n"
     ]
    },
    {
     "name": "stdout",
     "output_type": "stream",
     "text": [
      "{'message': 'Flashcard added successfully', 'subject': 'Physics'}\n",
      "{'message': 'Flashcard added successfully', 'subject': 'Biology'}\n",
      "{'message': 'Flashcard added successfully', 'subject': 'Chemistry'}\n",
      "{'message': 'Flashcard added successfully', 'subject': 'General'}\n",
      "{'message': 'Flashcard added successfully', 'subject': 'General'}\n"
     ]
    }
   ],
   "source": [
    "import requests\n",
    "import time\n",
    "\n",
    "# Wait for Flask to start\n",
    "time.sleep(2)\n",
    "\n",
    "# Add flashcards\n",
    "flashcards = [\n",
    "    {\"student_id\": \"stu001\", \"question\": \"What is Newton's Second Law?\", \"answer\": \"Force equals mass times acceleration\"},\n",
    "    {\"student_id\": \"stu001\", \"question\": \"What is photosynthesis?\", \"answer\": \"A process used by plants to convert light into energy\"},\n",
    "    {\"student_id\": \"stu001\", \"question\": \"What is an atom?\", \"answer\": \"The basic unit of a chemical element\"},\n",
    "    {\"student_id\": \"stu001\", \"question\": \"Solve x + 2 = 5\", \"answer\": \"x = 3\"},\n",
    "    {\"student_id\": \"stu001\", \"question\": \"Who was the first emperor of Rome?\", \"answer\": \"Augustus Caesar\"}\n",
    "]\n",
    "\n",
    "for card in flashcards:\n",
    "    r = requests.post(\"http://127.0.0.1:5000/flashcard\", json=card)\n",
    "    print(r.json())\n"
   ]
  },
  {
   "cell_type": "code",
   "execution_count": 9,
   "id": "95f7124d-330d-4bb1-a9dc-19369417a558",
   "metadata": {},
   "outputs": [
    {
     "name": "stderr",
     "output_type": "stream",
     "text": [
      "127.0.0.1 - - [18/May/2025 15:23:49] \"GET /get-subject?student_id=stu001&limit=5 HTTP/1.1\" 200 -\n"
     ]
    },
    {
     "data": {
      "text/plain": [
       "[{'answer': 'x = 3', 'question': 'Solve x + 2 = 5', 'subject': 'General'},\n",
       " {'answer': 'Force equals mass times acceleration',\n",
       "  'question': \"What is Newton's Second Law?\",\n",
       "  'subject': 'Physics'},\n",
       " {'answer': 'The basic unit of a chemical element',\n",
       "  'question': 'What is an atom?',\n",
       "  'subject': 'Chemistry'},\n",
       " {'answer': 'A process used by plants to convert light into energy',\n",
       "  'question': 'What is photosynthesis?',\n",
       "  'subject': 'Biology'}]"
      ]
     },
     "execution_count": 9,
     "metadata": {},
     "output_type": "execute_result"
    }
   ],
   "source": [
    "# Get flashcards (mixed subjects)\n",
    "r = requests.get(\"http://127.0.0.1:5000/get-subject\", params={\"student_id\": \"stu001\", \"limit\": 5})\n",
    "r.json()"
   ]
  },
  {
   "cell_type": "code",
   "execution_count": null,
   "id": "16462b7f-4d41-436a-a1f6-2b86cc44a897",
   "metadata": {},
   "outputs": [],
   "source": []
  }
 ],
 "metadata": {
  "kernelspec": {
   "display_name": "Python 3 (ipykernel)",
   "language": "python",
   "name": "python3"
  },
  "language_info": {
   "codemirror_mode": {
    "name": "ipython",
    "version": 3
   },
   "file_extension": ".py",
   "mimetype": "text/x-python",
   "name": "python",
   "nbconvert_exporter": "python",
   "pygments_lexer": "ipython3",
   "version": "3.11.7"
  }
 },
 "nbformat": 4,
 "nbformat_minor": 5
}
